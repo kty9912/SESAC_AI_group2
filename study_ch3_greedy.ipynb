{
 "cells": [
  {
   "cell_type": "markdown",
   "metadata": {},
   "source": [
    "# 그리디\n",
    "### 현재 상황에서 지금 당장 좋은 것만 고르는 방법\n",
    "\n"
   ]
  },
  {
   "cell_type": "markdown",
   "metadata": {},
   "source": [
    "### 1. 거스름돈\n",
    "#### - 가장 큰 화폐 단위부터 거슬러 줌"
   ]
  },
  {
   "cell_type": "code",
   "execution_count": null,
   "metadata": {},
   "outputs": [],
   "source": [
    "n = 1260\n",
    "count = 0\n",
    "\n",
    "# 큰 단위 화폐부터 확인\n",
    "coin_types = [500, 100, 50, 10]\n",
    "\n",
    "for coin in coin_types: # 하나씩 확인\n",
    "    count += n // coin # 해당 화폐로 거슬러 줄 수 있는 동전 개수 세기\n",
    "    n %= coin\n",
    "\n",
    "print(count)"
   ]
  },
  {
   "cell_type": "markdown",
   "metadata": {},
   "source": [
    "### 2. 큰 수의 법칙\n",
    "#### - 가장 큰 수를 k번 더하고, 두 번째로 큰 수를 한 번 더함"
   ]
  },
  {
   "cell_type": "code",
   "execution_count": null,
   "metadata": {},
   "outputs": [],
   "source": [
    "# 입력 받기\n",
    "# 배열 크기 n, 숫자 더해지는 횟수 m, 연속 가능 횟수 k\n",
    "n, m, k = map(int, input().split())\n",
    "data = list(map(int, input().split()))\n",
    "\n",
    "# 입력 받은 수 정렬\n",
    "data.sort()\n",
    "first = data[n-1]\n",
    "second = data[n-2]\n",
    "\n",
    "result = 0\n",
    "\n",
    "while True:\n",
    "\n",
    "    # 가장 큰 수를 k번 더함\n",
    "    for i in range(k):\n",
    "        if m == 0:\n",
    "            break\n",
    "        result += first\n",
    "        m -= 1\n",
    "    if m == 0:\n",
    "        break\n",
    "    \n",
    "    # 두 번째로 큰 수를 한 번 더함\n",
    "    result += second\n",
    "    m -= 1\n",
    "\n",
    "print(result)"
   ]
  },
  {
   "cell_type": "markdown",
   "metadata": {},
   "source": [
    "### 3. 숫자카드게임\n",
    "#### - 각 행마다 가장 작은 수를 찾은 뒤에 그 수 중에서 가장 큰 수 찾기"
   ]
  },
  {
   "cell_type": "code",
   "execution_count": null,
   "metadata": {},
   "outputs": [],
   "source": [
    "# 입력\n",
    "n, m = map(int, input().split())\n",
    "\n",
    "result = 0\n",
    "\n",
    "# 한 줄씩 확인\n",
    "for i in range(n):\n",
    "    data = list(map(int, input().split()))\n",
    "\n",
    "    # 행마다 가장 작은 수 찾기\n",
    "    min_value = min(data)\n",
    "\n",
    "    # 그 중에서 가장 큰 수 찾기\n",
    "    result = max(result, min_value)\n",
    "\n",
    "print(result)"
   ]
  },
  {
   "cell_type": "markdown",
   "metadata": {},
   "source": [
    "### 4. 1이 될 때까지\n",
    "#### - 최대한 많이 나눔"
   ]
  },
  {
   "cell_type": "code",
   "execution_count": null,
   "metadata": {},
   "outputs": [],
   "source": [
    "# 입력\n",
    "n, k = map(int, input().split())\n",
    "result = 0\n",
    "\n",
    "# N이 k 이상이면 나눈다\n",
    "while n >= k:\n",
    "    \n",
    "    # 나누어 떨어지지 않으면 -1\n",
    "    while n % k != 0:\n",
    "        n -= 1\n",
    "        result += 1\n",
    "    \n",
    "    # 나누어 떨어질 때\n",
    "    n // k\n",
    "    result += 1\n",
    "\n",
    "while n > 1:\n",
    "    n -= 1\n",
    "    result += 1\n",
    "\n",
    "print(result)"
   ]
  }
 ],
 "metadata": {
  "language_info": {
   "name": "python"
  }
 },
 "nbformat": 4,
 "nbformat_minor": 2
}
