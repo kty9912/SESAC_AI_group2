{
 "cells": [
  {
   "cell_type": "markdown",
   "metadata": {},
   "source": [
    "# 그리디 (Greedy)"
   ]
  },
  {
   "cell_type": "markdown",
   "metadata": {},
   "source": [
    "## Q1. 모험가 길드\n",
    "- N명의 모험가를 대상으로 공포도가 존재\n",
    "- 공포도가 X인 모험가는 반드시 X명 이상으로 구성한 모험가 그룹에 참여해야 여행을 떠날 수 있음\n",
    "- 몇 명의 모험가는 마을에 그대로 남아 있어도 된다.\n",
    "- 여행을 떠날 수 있는 그룹 수의 최댓값은?"
   ]
  },
  {
   "cell_type": "markdown",
   "metadata": {},
   "source": [
    "입력 조건 :\n",
    "- 첫째 줄에 모험가의 수 N이 주어집니다. (1 <= N <= 100,000)\\\n",
    "(예시) 5\n",
    "- 둘째 줄에 각 모험가의 공포도의 값을 N 이하의 자연수로 주어지며, 각 자연수는 공백으로 구분합니다.\\\n",
    "(예시) 2 3 1 2 2"
   ]
  },
  {
   "cell_type": "markdown",
   "metadata": {},
   "source": [
    "출력 조건 :\n",
    "- 여행을 떠날 수 있는 그룹 수의 최댓값을 출력합니다.\\\n",
    "(예시) 2"
   ]
  },
  {
   "cell_type": "code",
   "execution_count": 3,
   "metadata": {},
   "outputs": [
    {
     "name": "stdout",
     "output_type": "stream",
     "text": [
      "2\n"
     ]
    }
   ],
   "source": [
    "n = int(input())\n",
    "scare_list = list(map(int, input().split()))\n",
    "scare_list.sort()\n",
    "\n",
    "# 만들어질 그룹 수\n",
    "group = 0\n",
    "# 그룹에 모인 사람 수\n",
    "people = 0\n",
    "for scare in scare_list:\n",
    "    people += 1\n",
    "    # 공포도만큼 사람 수 모이면 한 그룹 완성\n",
    "    if people == scare:\n",
    "        group += 1\n",
    "        people = 0\n",
    "        \n",
    "print(group)"
   ]
  },
  {
   "cell_type": "markdown",
   "metadata": {},
   "source": [
    "## Q2. 곱하기 혹은 더하기\n",
    "- 각 자리가 숫자(0부터 9)로만 이루어진 문자열 S가 주어졌을 때, 왼쪽부터 오른쪽으로 하나씩 모든 숫자를 확인하며 숫자 사이에 'x' 혹은 '+' 연산자를 넣어 결과적으로 만들어질 수 있는 가장 큰 수를 구하는 프로그램 작성\n",
    "- 단, +보다 x를 먼저 계산하는 일반적인 방식과는 달리, 모든 연산은 왼쪽에서부터 순서대로 이루어진다고 가정"
   ]
  },
  {
   "cell_type": "markdown",
   "metadata": {},
   "source": [
    "입력 조건 :\n",
    "- 첫째 줄에 여러 개의 숫자로 구성된 하나의 문자열 S가 주어집니다. (1 <= S의 길이 <= 20)\\\n",
    "(예시) 02984"
   ]
  },
  {
   "cell_type": "markdown",
   "metadata": {},
   "source": [
    "출력 조건 :\n",
    "- 첫째 줄에 만들어질 수 있는 가장 큰 수를 출력합니다.\\\n",
    "(예시) 576"
   ]
  },
  {
   "cell_type": "code",
   "execution_count": 11,
   "metadata": {},
   "outputs": [
    {
     "name": "stdout",
     "output_type": "stream",
     "text": [
      "576\n"
     ]
    }
   ],
   "source": [
    "s = input()\n",
    "\n",
    "def max_num_fn(s):\n",
    "    # s가 한 자리일 때\n",
    "    if len(s) == 1:\n",
    "        return int(s)\n",
    "\n",
    "    # s가 두 자리이상\n",
    "    if s[0] == '0' or s[0] == '1' or s[1] == '0' or s[1] == '1':\n",
    "        max_num = int(s[0]) + int(s[1])\n",
    "    else:\n",
    "        max_num = int(s[0]) * int(s[1])\n",
    "        \n",
    "    for n in s[2:]:\n",
    "        n = int(n)\n",
    "        \n",
    "        if n == 0 or n == 1:\n",
    "            max_num += n\n",
    "        else:\n",
    "            max_num *= n\n",
    "            \n",
    "    return max_num\n",
    "        \n",
    "print(max_num_fn(s))"
   ]
  },
  {
   "cell_type": "markdown",
   "metadata": {},
   "source": [
    "## Q3. 문자열 뒤집기\n",
    "- 0과 1로만 이루어진 문자열 S가 주어짐\n",
    "- 이 문자열 S에 있는 모든 숫자를 전부 같게 만들기\n",
    "    - S에서 연속된 하나 이상의 숫자를 잡고 모두 뒤집는 것\n",
    "    - 뒤집는 것은 1을 0으로, 0을 1로 바꾸는 것을 의미\n",
    "- 예시) S = 0001100\n",
    "    1. 4번째 문자부터 5번째 문자까지 뒤집으면 0000000이 되어서 한 번 만에 모두 같은 숫자로 만들 수 있음\n",
    "- 문자열 S가 주어졌을 때, 위 행동의 최소 횟수를 출력"
   ]
  },
  {
   "cell_type": "markdown",
   "metadata": {},
   "source": [
    "입력 조건 :\n",
    "- 첫째 줄에 0과 1로만 이루어진 문자열 S가 주어집니다. S의 길이는 100만보다 작습니다.\\\n",
    "(예시) 0001100"
   ]
  },
  {
   "cell_type": "markdown",
   "metadata": {},
   "source": [
    "출력 조건 :\n",
    "- 첫째 줄에 행동의 최소 횟수를 출력합니다.\\\n",
    "(예시) 1"
   ]
  },
  {
   "cell_type": "code",
   "execution_count": 35,
   "metadata": {},
   "outputs": [
    {
     "name": "stdout",
     "output_type": "stream",
     "text": [
      "2\n"
     ]
    }
   ],
   "source": [
    "s = input()\n",
    "\n",
    "# 0이 연속으로 있는 횟수\n",
    "zero_group = 0\n",
    "# 1이 연속으로 있는 횟수\n",
    "one_group = 0\n",
    "# 현재 연속되고 있는 숫자\n",
    "zero_or_one = s[0]\n",
    "\n",
    "for n in s[1:]:\n",
    "    # 연속된 숫자가 나옴\n",
    "    if n == zero_or_one:\n",
    "        continue\n",
    "    # 1에서 0으로 바뀐 순간\n",
    "    elif n == '0':\n",
    "        one_group += 1\n",
    "    # 0에서 1로 바뀐 순간\n",
    "    else:\n",
    "        zero_group += 1\n",
    "    zero_or_one = n\n",
    "    \n",
    "# 마지막 자리에 있는 숫자 그룹 수 추가\n",
    "if n == '0':\n",
    "    zero_group += 1\n",
    "else:\n",
    "    one_group += 1\n",
    "    \n",
    "# 0 또는 1로 연속되는 횟수가 적은 것의 수만큼 뒤집으면 됨\n",
    "print(min(zero_group, one_group))"
   ]
  },
  {
   "cell_type": "markdown",
   "metadata": {},
   "source": [
    "## Q4. 만들 수 없는 금액"
   ]
  },
  {
   "cell_type": "markdown",
   "metadata": {},
   "source": [
    "입력 조건 :\n",
    "- 첫째 줄에는 동전의 개수를 나타내는 양의 정수 N이 주어집니다. (1 <= N <= 1,000)\\\n",
    "(예시) 5\n",
    "- 둘째 줄에는 각 동전의 화폐 단위를 나타내는 N개의 자연수가 주어지며, 각 자연수는 공백으로 구분합니다. 이때, 각 화폐 단위는 1,000,000 이하의 자연수입니다.\\\n",
    "(예시) 3 2 1 1 9"
   ]
  },
  {
   "cell_type": "markdown",
   "metadata": {},
   "source": [
    "출력 조건 :\n",
    "- 첫째 줄에 주어진 동전들로 만들 수 없는 양의 정수 금액 중 최솟값을 출력합니다.\\\n",
    "(예시) 8"
   ]
  },
  {
   "cell_type": "code",
   "execution_count": null,
   "metadata": {},
   "outputs": [],
   "source": [
    "n = int(input())\n",
    "coin_list = list(map(int, input().split()))\n",
    "coin_list.sort()\n",
    "\n",
    "i = 1\n",
    "while True:\n",
    "    pass"
   ]
  }
 ],
 "metadata": {
  "kernelspec": {
   "display_name": "newbie",
   "language": "python",
   "name": "python3"
  },
  "language_info": {
   "codemirror_mode": {
    "name": "ipython",
    "version": 3
   },
   "file_extension": ".py",
   "mimetype": "text/x-python",
   "name": "python",
   "nbconvert_exporter": "python",
   "pygments_lexer": "ipython3",
   "version": "3.10.0"
  }
 },
 "nbformat": 4,
 "nbformat_minor": 2
}
