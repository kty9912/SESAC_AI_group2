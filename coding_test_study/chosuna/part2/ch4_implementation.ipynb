{
 "cells": [
  {
   "cell_type": "markdown",
   "metadata": {},
   "source": [
    "# 구현 (Implementation)"
   ]
  },
  {
   "cell_type": "markdown",
   "metadata": {},
   "source": [
    "머릿속에 있는 알고리즘을 소스코드로 바꾸는 과정\n",
    "- 풀이를 떠올리는 것은 쉽지만 소스코드로 옮기기 어려운 문제\n",
    "- 알고리즘은 간단한데 코드가 지나칠 만큼 길어지는 문제\n",
    "- 문자열을 특정한 기준에 따라서 끊어 처리해야 하는 문제\n",
    "- 적절한 라이브러리를 찾아서 사용해야 하는 문제"
   ]
  },
  {
   "cell_type": "markdown",
   "metadata": {},
   "source": [
    "## 4-1 (예제) 상하좌우"
   ]
  },
  {
   "cell_type": "code",
   "execution_count": 3,
   "metadata": {},
   "outputs": [
    {
     "name": "stdout",
     "output_type": "stream",
     "text": [
      "3 4\n"
     ]
    }
   ],
   "source": [
    "n = int(input())\n",
    "move_list = input().split()\n",
    "direction = {\"L\":[0, -1], \"R\":[0, 1], \"U\":[-1, 0], \"D\":[1, 0]}\n",
    "\n",
    "position = [1, 1]  # 현재 좌표\n",
    "for move in move_list:\n",
    "\n",
    "    # 임시 좌표\n",
    "    temp = [position[0] + direction[move][0], position[1] + direction[move][1]]\n",
    "\n",
    "    if 1 <= temp[0] <= n and 1 <= temp[1] <= n:\n",
    "        position = temp\n",
    "\n",
    "print(position[0], position[1])"
   ]
  },
  {
   "cell_type": "markdown",
   "metadata": {},
   "source": [
    "## 4-2 (예제) 시각"
   ]
  },
  {
   "cell_type": "code",
   "execution_count": 40,
   "metadata": {},
   "outputs": [
    {
     "name": "stdout",
     "output_type": "stream",
     "text": [
      "11475\n"
     ]
    }
   ],
   "source": [
    "# 1분당 3이 들어간 개수 : 15개\n",
    "# 1시간당 3이 들어간 개수 : 15*60 + 60*15 - 15*15개 (A합집합B = A + B - A교집합B)\n",
    "\n",
    "n = int(input())\n",
    "count_per_1 = 15 * 60 + 60 * 15 - 15 * 15\n",
    "\n",
    "if n < 3:\n",
    "    result = count_per_1 * (n + 1)        # n=0일 때 59분 59초로 약 1시간\n",
    "elif 3 <= n < 13:\n",
    "    result = count_per_1 * n + 60 * 60    # 3시일 때 분, 초 상관없음\n",
    "elif 13 <= n < 23:\n",
    "    result = count_per_1 * (n - 1) + 60 * 60 * 2  # 3시, 13시일 때\n",
    "else:\n",
    "    result = count_per_1 * (n - 2) + 60 * 60 * 3  # 3시, 13시, 23시일 때\n",
    "\n",
    "print(result)"
   ]
  },
  {
   "cell_type": "markdown",
   "metadata": {},
   "source": [
    "## 4-3 (실전) 왕실의 나이트"
   ]
  },
  {
   "cell_type": "code",
   "execution_count": 49,
   "metadata": {},
   "outputs": [
    {
     "name": "stdout",
     "output_type": "stream",
     "text": [
      "6\n"
     ]
    }
   ],
   "source": [
    "# 현재 위치\n",
    "position = input()\n",
    "\n",
    "position = [int(position[1]), ord(position[0]) - 96]     # ord('a') == 97\n",
    "\n",
    "# 나이트가 움직일 수 있는 방향\n",
    "move_list = [[-2, 1], [-2, -1], [2, 1], [2, -1], [-1, 2], [-1, -2], [1, 2], [1, -2]]\n",
    "\n",
    "count = 0\n",
    "for move in move_list:\n",
    "    # 움직일 방향\n",
    "    temp = [position[0] + move[0], position[1] + move[1]]\n",
    "    # 체스판을 벗어나지 않는지 비교\n",
    "    if 1 <= temp[0] <= 8 and 1 <= temp[1] <= 8:\n",
    "        count += 1\n",
    "\n",
    "print(count)\n"
   ]
  },
  {
   "cell_type": "markdown",
   "metadata": {},
   "source": [
    "## 4-4 (실전) 게임 개발"
   ]
  },
  {
   "cell_type": "code",
   "execution_count": 7,
   "metadata": {},
   "outputs": [
    {
     "name": "stdout",
     "output_type": "stream",
     "text": [
      "3\n"
     ]
    }
   ],
   "source": [
    "# 맵 크기\n",
    "n, m = map(int, input().split())\n",
    "# 위치 방향\n",
    "position = list(map(int, input().split())) \n",
    "## position = (a, b) , 1<=a<=n, 1<=b<=m\n",
    "## direction은 바라보고 있는 방향\n",
    "position, direction = [position[0], position[1]], position[2]\n",
    "\n",
    "# 게임 맵 생성\n",
    "board = []\n",
    "for i in range(n):\n",
    "    board.append(list(map(int, input().split())))\n",
    "\n",
    "# 북동남서 방향별 이동 좌표 거리\n",
    "move_list = [[-1, 0], [0, 1], [1, 0], [0, -1]]\n",
    "\n",
    "# 방문한 칸의 수 (현재 위치는 항상 방문해서 최소 1)\n",
    "count = 1\n",
    "while True:\n",
    "    # 육지인데 이미 방문한 곳 2로 처리\n",
    "    board[position[0]][position[1]] = 2\n",
    "\n",
    "    for i in range(4):\n",
    "        # 왼쪽으로 돌기\n",
    "        direction -= 1\n",
    "        if direction < 0:\n",
    "            direction = 3\n",
    "        # 이동할 좌표\n",
    "        temp = [move_list[direction][0] + position[0], move_list[direction][1] + position[1]]\n",
    "\n",
    "        # 이동할 곳이 육지면 이동\n",
    "        if board[temp[0]][temp[1]] == 0:\n",
    "            position = temp\n",
    "            count += 1\n",
    "            i = 0       # (i=3일 때 육지 이동했을 때)와 (이동 못 했을 때) 구분\n",
    "            break\n",
    "    \n",
    "    # 이동할 곳이 없을 때\n",
    "    if i == 3:\n",
    "        temp = [move_list[direction][0] * -1 + position[0], move_list[direction][1] * -1 + position[1]]\n",
    "        \n",
    "        # 왔던 곳 뒤로가기\n",
    "        if board[temp[0]][temp[1]] == 2:\n",
    "            position = temp\n",
    "        # 뒤가 바다이면 이동 중지\n",
    "        else:\n",
    "            break\n",
    "\n",
    "print(count)"
   ]
  }
 ],
 "metadata": {
  "kernelspec": {
   "display_name": "Python 3",
   "language": "python",
   "name": "python3"
  },
  "language_info": {
   "codemirror_mode": {
    "name": "ipython",
    "version": 3
   },
   "file_extension": ".py",
   "mimetype": "text/x-python",
   "name": "python",
   "nbconvert_exporter": "python",
   "pygments_lexer": "ipython3",
   "version": "3.10.11"
  }
 },
 "nbformat": 4,
 "nbformat_minor": 2
}
