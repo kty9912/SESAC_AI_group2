{
 "cells": [
  {
   "cell_type": "markdown",
   "metadata": {},
   "source": [
    "# 기타 그래프 이론\n",
    "DFS/BFS와 최단 경로는 그래프 알고리즘의 한 유형으로 볼 수 있다.\n",
    "- 크루스칼 알고리즘 (Kruskal Algorithms) : 그리디 알고리즘\n",
    "- 위상 정렬 알고리즘 (Topology Algorithms) : 큐, 스택 자료구조 활용해서 구현"
   ]
  },
  {
   "cell_type": "markdown",
   "metadata": {},
   "source": [
    "| |그래프|트리|\n",
    "|--|--|--|\n",
    "|방향성|방향 그래프 혹은 무방향 그래프|방향 그래프|\n",
    "|순환성|순환 및 비순환|비순환|\n",
    "|루트 노드 존재 여부|루트 노드가 없음|루트 노드가 존재|\n",
    "|노드간 관계성|부모와 자식 관계 없음|부모와 자식 관계|\n",
    "|모델의 종류|네트워크 모델|계층 모델|"
   ]
  },
  {
   "cell_type": "markdown",
   "metadata": {},
   "source": [
    "### 그래프 구현 방법\n",
    "(V : 노드 개수, E : 간선 개수)\n",
    "- 인접 행렬(Adjacency Matrix) : 2차원 배열을 사용하는 방식 (플로이드 워셜 알고리즘 : 노드 개수 적을 때 사용)\n",
    "    - 메모리 공간 : O(V^2)\n",
    "    - 간선 비용 : O(1)\n",
    "- 인접 리스트(Adjacency List) : 리스트를 사용하는 방식 (우선순위 큐를 이용한 다익스트라 최단 경로 알고리즘 : 노드와 간선의 개수가 많을 때 사용)\n",
    "    - 메모리 공간 : O(E)\n",
    "    - 간선 비용 : O(V)"
   ]
  },
  {
   "cell_type": "markdown",
   "metadata": {},
   "source": [
    "## 서로소 집합 (Disjoint Sets)\n",
    "공통 원소가 없는 두 집합\n",
    "\n",
    "### 서로소 집합 자료구조 (union-find 자료구조)\n",
    "서로소 부분 집합들로 나누어진 원소들의 데이터를 처리하기 위한 자료구조\n",
    "- union (합집합) : 2개의 원소가 포함된 집합을 하나의 집합으로 합치는 연산\n",
    "- find (찾기) : 특정한 원소가 속한 집합이 어떤 집합인지 알려주는 연산\n",
    "- 트리 자료구조 이용"
   ]
  },
  {
   "cell_type": "markdown",
   "metadata": {},
   "source": [
    "#### 서로소 집합 계산 알고리즘\n",
    "1. union(합집한) 연산을 확인하여, 서로 연결된 두 노드 A, B를 확인한다.\n",
    "    1. A와 B의 루트 노드 A', B'를 각각 찾는다.\n",
    "    2. A'를 B'의 부모 노드로 설정한다(B'가 A'를 가리키도록 한다). or A'와 B' 중에서 더 번호가 작은 원소가 부모 노드\n",
    "2. 모든 union(합집합) 연산을 처리할 때까지 1번 과정을 반복한다."
   ]
  },
  {
   "cell_type": "markdown",
   "metadata": {},
   "source": [
    "기본적인 서로소 집합 알고리즘 소스코드\n",
    "- 루트 노드가 같은 원소끼리는 동일한 집합 ({1, 2, 3, 4}, {5, 6})\n",
    "- find 함수가 비효율적으로 동작 (최악의 경우 시간 복잡도 : O(V))\n",
    "- 노드의 개수가 V개이고 find 혹은 union 연산의 개수가 M개일 때, 전체 시간 복잡도 : O(VM)"
   ]
  },
  {
   "cell_type": "code",
   "execution_count": 1,
   "metadata": {},
   "outputs": [
    {
     "name": "stdout",
     "output_type": "stream",
     "text": [
      "각 원소가 속한 집합: 1 1 1 1 5 5 \n",
      "부모 테이블: 1 1 2 1 5 5 "
     ]
    }
   ],
   "source": [
    "# 특정 원소가 속한 집합을 찾기\n",
    "def find_parent(parent, x):\n",
    "    # 루트 노드가 아니라면, 루트 노드를 찾을 때까지 재귀적으로 호출\n",
    "    if parent[x] != x:\n",
    "        return find_parent(parent, parent[x])\n",
    "    return x\n",
    "\n",
    "# 두 원소가 속한 집합을 합치기\n",
    "def union_parent(parent, a, b):\n",
    "    a = find_parent(parent, a)\n",
    "    b = find_parent(parent, b)\n",
    "    if a < b:\n",
    "        parent[b] = a\n",
    "    else:\n",
    "        parent[a] = b\n",
    "        \n",
    "# 노드의 개수와 간선(union 연산)의 개수 입력받기\n",
    "v, e = map(int, input().split())\n",
    "parent = [0] * (v + 1)\n",
    "\n",
    "# 부모 테이블상에서, 부모를 자기 자신으로 초기화\n",
    "for i in range(1, v + 1):\n",
    "    parent[i] = i\n",
    "    \n",
    "# union 연산을 각각 수행\n",
    "for i in range(e):\n",
    "    a, b = map(int, input().split())\n",
    "    union_parent(parent, a, b)\n",
    "    \n",
    "# 각 원소가 속한 집합 출력\n",
    "print('각 원소가 속한 집합: ', end=\"\")\n",
    "for i in range(1, v + 1):\n",
    "    print(find_parent(parent, i), end=' ')\n",
    "    \n",
    "print()\n",
    "\n",
    "# 부모 테이블 내용 출력\n",
    "print('부모 테이블: ', end=\"\")\n",
    "for i in range(1, v + 1):\n",
    "    print(parent[i], end=' ')"
   ]
  },
  {
   "cell_type": "markdown",
   "metadata": {},
   "source": [
    "경로 압축 (Path Compression) 기법 소스코드\n",
    "- find 함수 최적화 : find 함수를 재귀적으로 호출한 뒤에 부모 테이블값을 갱신하는 기법"
   ]
  },
  {
   "cell_type": "code",
   "execution_count": null,
   "metadata": {},
   "outputs": [],
   "source": [
    "def find_parent(parent, x):\n",
    "    if parent[x] != x:\n",
    "        parent[x] = find_parent(parent, parent[x])      # 루트 노드를 이미 부모로 가리키고 있는데도 find_parent()를 통해 계속해서 루트 노드로 지정하는 과정을 거침\n",
    "    return parent[x]"
   ]
  },
  {
   "cell_type": "code",
   "execution_count": null,
   "metadata": {},
   "outputs": [],
   "source": []
  }
 ],
 "metadata": {
  "kernelspec": {
   "display_name": "newbie",
   "language": "python",
   "name": "python3"
  },
  "language_info": {
   "codemirror_mode": {
    "name": "ipython",
    "version": 3
   },
   "file_extension": ".py",
   "mimetype": "text/x-python",
   "name": "python",
   "nbconvert_exporter": "python",
   "pygments_lexer": "ipython3",
   "version": "3.10.0"
  }
 },
 "nbformat": 4,
 "nbformat_minor": 2
}
