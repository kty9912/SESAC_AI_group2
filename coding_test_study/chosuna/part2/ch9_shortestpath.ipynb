{
 "cells": [
  {
   "cell_type": "markdown",
   "metadata": {},
   "source": [
    "# 최단 경로 (Shortest Path)\n",
    "가장 짧은 경로를 찾는 알고리즘\n",
    "- 다익스트라 최단 경로 알고리즘\n",
    "- 플로이드 워셜 알고리즘"
   ]
  },
  {
   "cell_type": "markdown",
   "metadata": {},
   "source": [
    "## 다익스트라 최단 경로 알고리즘\n",
    "그래프에서 여러 개의 노드가 있을 때, 특정한 노드에서 출발하여 다른 노드로 가는 각각의 최단 경로를 구해주는 알고리즘이다.\n",
    "- 음의 간성이 없을 때 정상적으로 동작\n",
    "- 그리디 알고리즘으로 분류 (매번 가장 비용이 적은 노드를 선택해서 임의으이 과정을 반복)\n",
    "    1. 출발 노드를 설정한다.\n",
    "    2. 최단 거리 테이블을 초기화한다.\n",
    "    3. 방문하지 않은 노드 중에서 최단 거리가 가장 짧은 노드를 선택한다.\n",
    "    4. 해당 노드를 거쳐 다른 노드를 가능 비용을 계산하여 최단 거리 테이블을 갱신한다.\n",
    "    5. 위 과정에서 3과 4번을 반복한다."
   ]
  },
  {
   "cell_type": "markdown",
   "metadata": {},
   "source": [
    "### 간단한 다익스트라 알고리즘"
   ]
  },
  {
   "cell_type": "markdown",
   "metadata": {},
   "source": [
    "### 개선된 다익스트라 알고리즘"
   ]
  },
  {
   "cell_type": "markdown",
   "metadata": {},
   "source": [
    "## 플로이드 워셜 알고리즘\n",
    "모든 지점에서 다른 모든 지점까지의 최단 경로를 모두 구해야 하는 경우에 사용할 수 있는 알고리즘이다."
   ]
  },
  {
   "cell_type": "markdown",
   "metadata": {},
   "source": [
    "---"
   ]
  },
  {
   "cell_type": "markdown",
   "metadata": {},
   "source": [
    "## 2. 미래 도시"
   ]
  },
  {
   "cell_type": "markdown",
   "metadata": {},
   "source": [
    "입력 조건 :\n",
    "- 첫째 줄에 전체 회사의 개수 N과 경로의 개수 M이 공백으로 구분되어 차례대로 주어진다. (1 <= N, M <= 100)\\\n",
    "(예시) 5 7\n",
    "- 둘째 줄부터 M + 1번째 줄에는 연결된 두 회사의 번호가 공백으로 구분되어 주어진다.\\\n",
    "(예시)\\\n",
    "1 2\\\n",
    "1 3\\\n",
    "1 4\\\n",
    "2 4\\\n",
    "3 4\\\n",
    "3 5\\\n",
    "4 5\n",
    "- M + 2번째 줄에는 X와 K가 공백으로 구분되어 차례대로 주어진다. (1 <= K <= 100)\\\n",
    "(예시) 4 5"
   ]
  },
  {
   "cell_type": "markdown",
   "metadata": {},
   "source": [
    "출력 조건 :\n",
    "- 첫째 줄에 방문 판매원 A가 K번 회사를 거쳐 X번 회사로 가는 최소 이동 시간을 출력한다.\\\n",
    "(예시) 3\n",
    "- 만약 X번 회사에 도달할 수 없다면 -1을 출력한다.\\\n",
    "(예시) -1"
   ]
  },
  {
   "cell_type": "code",
   "execution_count": null,
   "metadata": {},
   "outputs": [],
   "source": [
    "n, m = map(int, input().split())\n",
    "connect_dict = {company + 1 : [] for company in range(n)}\n",
    "\n",
    "for _ in range(m):\n",
    "    com1, com2 = map(int, input().split())\n",
    "    connect_dict[com1].append(com2)\n",
    "    connect_dict[com2].append(com1)\n",
    "    \n",
    "x, k = map(int, input().split())"
   ]
  },
  {
   "cell_type": "markdown",
   "metadata": {},
   "source": [
    "## 3. 전보"
   ]
  },
  {
   "cell_type": "markdown",
   "metadata": {},
   "source": [
    "입력 조건 :\n",
    "- 첫째 줄에 도시의 개수 N, 통로의 개수 M, 메시지를 보내고자 하는 도시 C가 주어진다. (1 <= N <= 30,000, 1 <= M <= 200,000, 1 <= C <= N)\\\n",
    "(예시) 3 2 1\n",
    "- 둘째 줄부터 M + 1번째 줄에 걸쳐서 통로에 대한 정보 X, Y, Z가 주어진다. 이는 특정 도시 X에서 다른 특정 도시 Y로 이어지는 통로가 있으며, 메시지가 전달되는 시간이 Z라는 의미다.\\\n",
    "(예시)\\\n",
    "1 2 4\\\n",
    "1 3 2"
   ]
  },
  {
   "cell_type": "markdown",
   "metadata": {},
   "source": [
    "출력 조건 :\n",
    "- 첫째 줄에 도시 C에서 보낸 메시지를 받는 도시의 총 개수와 총 걸리는 시간을 공백으로 구분하여 출력한다.\\\n",
    "(예시) 2 4"
   ]
  },
  {
   "cell_type": "code",
   "execution_count": 31,
   "metadata": {},
   "outputs": [
    {
     "data": {
      "text/plain": [
       "[[0, 4, 2], [0, 0, 0], [0, 0, 0]]"
      ]
     },
     "execution_count": 31,
     "metadata": {},
     "output_type": "execute_result"
    }
   ],
   "source": [
    "n, m, c = map(int, input().split())\n",
    "connect_array = [[0 for j in range(n)] for i in range(n)]\n",
    "\n",
    "for _ in range(m):\n",
    "    x, y, z = map(int, input().split())\n",
    "    connect_array[x - 1][y - 1] = z\n",
    "    \n",
    "connect_array"
   ]
  }
 ],
 "metadata": {
  "kernelspec": {
   "display_name": "newbie",
   "language": "python",
   "name": "python3"
  },
  "language_info": {
   "codemirror_mode": {
    "name": "ipython",
    "version": 3
   },
   "file_extension": ".py",
   "mimetype": "text/x-python",
   "name": "python",
   "nbconvert_exporter": "python",
   "pygments_lexer": "ipython3",
   "version": "3.10.0"
  }
 },
 "nbformat": 4,
 "nbformat_minor": 2
}
