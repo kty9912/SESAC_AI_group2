{
 "cells": [
  {
   "cell_type": "markdown",
   "metadata": {},
   "source": [
    "# 다이나믹 프로그래밍 (Dynamic Programming) (동적 계획법)\n",
    "1. 최적부분구조 : 큰 문제를 작은 문제로 나눌 수 있다.\n",
    "2. 중복되는 부분 문제 : 작은 문제에서 구한 정답은 그것을 포함하는 큰 문제에서도 동일하다.\n",
    "\n",
    "- 중복되는 연산을 줄인다.\n",
    "- TopDown, BottomUp\n",
    "- 메모이제이션 기법"
   ]
  },
  {
   "cell_type": "markdown",
   "metadata": {},
   "source": [
    "다이나믹 프로그래밍과 분할 정복의 차이점은 다이나믹 프로그래밍은 문제들이 서로 영향을 미치고 있다는 점이다."
   ]
  },
  {
   "cell_type": "markdown",
   "metadata": {},
   "source": [
    "## 메모이제이션 기법 (Memoization)\n",
    "한 번 구한 결과를 메모리 공간에 메모해두고 같은 식을 다시 호출하면 메모한 결과를 그대로 가져오는 기법\\\n",
    "메모이제이션은 값을 저장하는 방법이므로 캐싱(Caching)이라고도 한다.\n",
    "- 재귀함수\n",
    "- 일시적으로 저장\n",
    "- 하향식 TopDown"
   ]
  },
  {
   "cell_type": "code",
   "execution_count": 1,
   "metadata": {},
   "outputs": [
    {
     "name": "stdout",
     "output_type": "stream",
     "text": [
      "218922995834555169026\n"
     ]
    }
   ],
   "source": [
    "d = [0] * 100\n",
    "\n",
    "def fibo(x):\n",
    "    if x == 1 or x == 2:\n",
    "        return 1\n",
    "    if d[x] != 0:\n",
    "        return d[x]\n",
    "    d[x] = fibo(x - 1) + fibo(x - 2)\n",
    "    return d[x]\n",
    "\n",
    "print(fibo(99))"
   ]
  },
  {
   "cell_type": "code",
   "execution_count": null,
   "metadata": {},
   "outputs": [],
   "source": []
  }
 ],
 "metadata": {
  "kernelspec": {
   "display_name": "base",
   "language": "python",
   "name": "python3"
  },
  "language_info": {
   "codemirror_mode": {
    "name": "ipython",
    "version": 3
   },
   "file_extension": ".py",
   "mimetype": "text/x-python",
   "name": "python",
   "nbconvert_exporter": "python",
   "pygments_lexer": "ipython3",
   "version": "3.11.5"
  }
 },
 "nbformat": 4,
 "nbformat_minor": 2
}
