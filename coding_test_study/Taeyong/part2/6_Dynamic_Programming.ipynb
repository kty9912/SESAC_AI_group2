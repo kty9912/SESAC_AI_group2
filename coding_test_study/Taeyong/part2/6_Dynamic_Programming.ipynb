{
 "cells": [
  {
   "cell_type": "markdown",
   "metadata": {},
   "source": [
    "# Chapter_8 다이나믹 프로그래밍\n",
    "\n",
    "\n",
    "메모리 공간을 활용하여 효율적인 알고리즘을 작성"
   ]
  },
  {
   "cell_type": "markdown",
   "metadata": {},
   "source": [
    "#### 다이나믹 프로그래밍 사용 조건 확인\n",
    "1. 최적 부분 구조: 큰 문제를 작은 문제로 나눌 수 있음<br>\n",
    "2. 중복되는 부분 문제: 동일한 작은 문제를 반복적으로 해겷"
   ]
  },
  {
   "cell_type": "markdown",
   "metadata": {},
   "source": [
    "#### 메모이제이션\n",
    "한번 계산한 결과를 메모리 공간에 메모하는 기법  Like 캐싱(Caching) <br>\n",
    "=> 하향식<br>\n",
    "이전에 계산된 결과를 일시적으로 기록해놓는 넓은 개념을 의미 <br>\n",
    "결과 저장용 리스트는 DP 테이블이라 부름"
   ]
  },
  {
   "cell_type": "code",
   "execution_count": null,
   "metadata": {},
   "outputs": [],
   "source": [
    "# 피보나치 함수(Fibonacci Function)을 재귀함수로 구현\n",
    "def fibo(x):\n",
    "    if x == 1 or x == 2:\n",
    "        return 1\n",
    "    return fibo(x - 1) + fibo(x - 2)\n",
    "\n",
    "print(fibo(4))\n",
    "\n",
    "# 완전 오래 걸리는거!!"
   ]
  },
  {
   "cell_type": "code",
   "execution_count": 3,
   "metadata": {},
   "outputs": [
    {
     "name": "stdout",
     "output_type": "stream",
     "text": [
      "f(99) f(98) f(97) f(96) f(95) f(94) f(93) f(92) f(91) f(90) f(89) f(88) f(87) f(86) f(85) f(84) f(83) f(82) f(81) f(80) f(79) f(78) f(77) f(76) f(75) f(74) f(73) f(72) f(71) f(70) f(69) f(68) f(67) f(66) f(65) f(64) f(63) f(62) f(61) f(60) f(59) f(58) f(57) f(56) f(55) f(54) f(53) f(52) f(51) f(50) f(49) f(48) f(47) f(46) f(45) f(44) f(43) f(42) f(41) f(40) f(39) f(38) f(37) f(36) f(35) f(34) f(33) f(32) f(31) f(30) f(29) f(28) f(27) f(26) f(25) f(24) f(23) f(22) f(21) f(20) f(19) f(18) f(17) f(16) f(15) f(14) f(13) f(12) f(11) f(10) f(9) f(8) f(7) f(6) f(5) f(4) f(3) f(2) f(1) f(2) f(3) f(4) f(5) f(6) f(7) f(8) f(9) f(10) f(11) f(12) f(13) f(14) f(15) f(16) f(17) f(18) f(19) f(20) f(21) f(22) f(23) f(24) f(25) f(26) f(27) f(28) f(29) f(30) f(31) f(32) f(33) f(34) f(35) f(36) f(37) f(38) f(39) f(40) f(41) f(42) f(43) f(44) f(45) f(46) f(47) f(48) f(49) f(50) f(51) f(52) f(53) f(54) f(55) f(56) f(57) f(58) f(59) f(60) f(61) f(62) f(63) f(64) f(65) f(66) f(67) f(68) f(69) f(70) f(71) f(72) f(73) f(74) f(75) f(76) f(77) f(78) f(79) f(80) f(81) f(82) f(83) f(84) f(85) f(86) f(87) f(88) f(89) f(90) f(91) f(92) f(93) f(94) f(95) f(96) f(97) 218922995834555169026\n"
     ]
    }
   ],
   "source": [
    "# 메모이제이션 사용했을 시(하향식(Top-Down))\n",
    "# 한 번 계산된 결과를 메모이제이션(Memoization)하기 위한 리스트 초기화\n",
    "d = [0] * 100\n",
    "\n",
    "# 피보나치 함수(Fibonacci Function)를 재귀함수로 구현 (탑다운 다이나믹 프로그래밍)\n",
    "def fibo(x):\n",
    "    print('f('+str(x)+')', end=' ')\n",
    "    # 종료 조건(1 혹은 2일 때 1을 반환)\n",
    "    if x == 1 or x == 2:\n",
    "        return 1\n",
    "    # 이미 계산한 적 있는 문제라면 그대로 반환\n",
    "    if d[x] != 0:\n",
    "        return d[x]\n",
    "    # 아직 계산하지 않은 문제라면 점화식에 따라서 피보나치 결과 반환\n",
    "    d[x] = fibo(x - 1) + fibo(x - 2)\n",
    "    return d[x]\n",
    "\n",
    "print(fibo(99))"
   ]
  },
  {
   "cell_type": "code",
   "execution_count": 2,
   "metadata": {},
   "outputs": [
    {
     "name": "stdout",
     "output_type": "stream",
     "text": [
      "218922995834555169026\n"
     ]
    }
   ],
   "source": [
    "# Bottom-Up\n",
    "d = [0] * 100\n",
    "\n",
    "# 첫 번째 피보나치 수와 두 번째 피보나치 수는 1\n",
    "d[1] = 1\n",
    "d[2] = 1\n",
    "n = 99\n",
    "\n",
    "# 피보나치 함수(Fibonacci Function) 반복문으로 구현(보텀업 다이나믹 프로그래밍)\n",
    "for i in range(3, n + 1):\n",
    "    d[i] = d[i - 1] + d[i - 2]\n",
    "\n",
    "print(d[n])"
   ]
  },
  {
   "cell_type": "markdown",
   "metadata": {},
   "source": [
    "### 2. 1로 만들기"
   ]
  },
  {
   "cell_type": "code",
   "execution_count": 4,
   "metadata": {},
   "outputs": [
    {
     "name": "stdout",
     "output_type": "stream",
     "text": [
      "3\n"
     ]
    }
   ],
   "source": [
    "d = [0] * 100\n",
    "x = int(input())\n",
    "\n",
    "for i in range(2, x+1): # 1일때는 그냥 마무리\n",
    "    d[i] = d[i-1] + 1 # 1 빼는 경우\n",
    "    if i % 2 == 0 and d[i] > d[i // 2] + 1:\n",
    "        d[i] = d[i // 2] + 1\n",
    "    if i % 3 == 0 and d[i] > d[i // 3] + 1:\n",
    "        d[i] = d[i // 3] + 1\n",
    "    if i % 5 == 0 and d[i] > d[i // 5] + 1:\n",
    "        d[i] = d[i // 5] + 1\n",
    "        \n",
    "print(d[x])"
   ]
  },
  {
   "cell_type": "markdown",
   "metadata": {},
   "source": [
    "### 3. 개미 전사"
   ]
  },
  {
   "cell_type": "code",
   "execution_count": 5,
   "metadata": {},
   "outputs": [
    {
     "name": "stdout",
     "output_type": "stream",
     "text": [
      "8\n"
     ]
    }
   ],
   "source": [
    "d = [0] * 1000\n",
    "n = int(input())\n",
    "k = list(map(int, input().split()))\n",
    "\n",
    "d[0] = k[0]\n",
    "d[1] = max(k[0], k[1]) \n",
    "for i in range(2, n):\n",
    "    d[i] = max(d[i - 1], d[i - 2] + k[i])\n",
    "\n",
    "print(d[n - 1])\n",
    "\n",
    "# 앞 문제와 비교 "
   ]
  },
  {
   "cell_type": "markdown",
   "metadata": {},
   "source": [
    "### 4. 바닥공사"
   ]
  },
  {
   "cell_type": "code",
   "execution_count": 6,
   "metadata": {},
   "outputs": [
    {
     "name": "stdout",
     "output_type": "stream",
     "text": [
      "5\n"
     ]
    }
   ],
   "source": [
    "d = [0] * 1000\n",
    "n = int(input())\n",
    "\n",
    "d[1] = 1\n",
    "d[2] = 3\n",
    "for i in range(3, n + 1):\n",
    "    d[i] = (d[i - 1] + 2 * d[i - 2]) % 796796\n",
    "        \n",
    "print(d[n])"
   ]
  },
  {
   "cell_type": "markdown",
   "metadata": {},
   "source": [
    "### 5. 효율적인 화폐 구성"
   ]
  },
  {
   "cell_type": "code",
   "execution_count": 7,
   "metadata": {},
   "outputs": [
    {
     "name": "stdout",
     "output_type": "stream",
     "text": [
      "5\n"
     ]
    }
   ],
   "source": [
    "# 정수 N, M을 입력 받기\n",
    "n, m = map(int, input().split())\n",
    "# N개의 화폐 단위 정보를 입력 받기\n",
    "array = []\n",
    "for i in range(n):\n",
    "    array.append(int(input()))\n",
    "\n",
    "# 한 번 계산된 결과를 저장하기 위한 DP 테이블 초기화\n",
    "d = [10001] * (m + 1)\n",
    "\n",
    "# 다이나믹 프로그래밍(Dynamic Programming) 진행(보텀업)\n",
    "d[0] = 0\n",
    "for i in range(n):\n",
    "    for j in range(array[i], m + 1):\n",
    "        if d[j - array[i]] != 10001: # (i - k)원을 만드는 방법이 존재하는 경우\n",
    "            d[j] = min(d[j], d[j - array[i]] + 1)\n",
    "\n",
    "# 계산된 결과 출력\n",
    "if d[m] == 10001: # 최종적으로 M원을 만드는 방법이 없는 경우\n",
    "    print(-1)\n",
    "else:\n",
    "    print(d[m])"
   ]
  }
 ],
 "metadata": {
  "kernelspec": {
   "display_name": "study",
   "language": "python",
   "name": "python3"
  },
  "language_info": {
   "codemirror_mode": {
    "name": "ipython",
    "version": 3
   },
   "file_extension": ".py",
   "mimetype": "text/x-python",
   "name": "python",
   "nbconvert_exporter": "python",
   "pygments_lexer": "ipython3",
   "version": "3.10.6"
  }
 },
 "nbformat": 4,
 "nbformat_minor": 2
}
