{
 "cells": [
  {
   "cell_type": "markdown",
   "metadata": {},
   "source": [
    "### 탐색 (Search)이란?\n",
    "많은 양의 데이터 중에서 원하는 데이터를 찾는 과정\n",
    "### 자료구조 (Data Structure)란?\n",
    "데이터를 표현하고 관리하고 처리하기 위한 구조\n",
    "- 스택 (Stack) : 선입후출(FILO), 후입선출(LIFO)\n",
    "- 큐 (Queue) : 선입선출(FIFO)"
   ]
  },
  {
   "cell_type": "markdown",
   "metadata": {},
   "source": [
    "---"
   ]
  },
  {
   "cell_type": "markdown",
   "metadata": {},
   "source": [
    "# DFS (Depth First Search, 깊이 우선탐색)\n",
    "그래프에서 깊은 부분을 우선적으로 탐색하는 알고리즘\n",
    "1. 탐색 시작 노드를 **스택**에 삽입하고 방문 처리를 한다.\n",
    "2. 스택의 최상단 노드에 방문하지 않은 인접 노드가 있으면 그 인접 노드(1개)를 스택에 넣고 방문 처리를한다. 방문하지 않은 인접 노드가 없으면 스택에서 최상단 노드를 꺼낸다.\n",
    "3. 2번의 과정을 더 이상 수행할 수 없을 때까지 반복한다."
   ]
  },
  {
   "cell_type": "markdown",
   "metadata": {},
   "source": [
    "# BFS (Breadth First Search, 너비 우선 탐색)\n",
    "가까운 노드부터 탐색하는 알고리즘 (일반적인 경우 DFS보다 조금 더 빠르게 동작)\n",
    "1. 탐색 시작 노드를 **큐**에 삽입하고 방문 처리를 한다.\n",
    "2. 큐에서 노드를 꺼내 해당 노드의 인접 노드 중에서 방문하지 않은 노드를 **모두** 큐에 삽입하고 방문 처리를 한다.\n",
    "3. 2번의 과정을 더 이상 수행할 수 없을 때까지 반복한다."
   ]
  },
  {
   "cell_type": "markdown",
   "metadata": {},
   "source": [
    "## 5-10 (실전) 음료수 얼려 먹기\n",
    "- N x M크기의 얼음 틀\n",
    "- 구멍이 뚫려 있는 부분 : 0, 칸막이가 존재하는 부분 : 1\n",
    "- 구멍이 뚫려 있는 부분끼리 상, 하, 좌, 우로 붙어 있는 경우 서로 연결되어 있는 것"
   ]
  },
  {
   "cell_type": "markdown",
   "metadata": {},
   "source": [
    "입력 조건 :\n",
    "- 첫째 줄에 얼음 틀의 세로 길이 N과 가로 길이 M이 주어진다. (1 <= N, M <= 1000)\\\n",
    "(예시) 4 5\n",
    "- 둘째 줄부터 N + 1번째 줄까지 얼음 틀의 형태가 주어진다.\\\n",
    "(예시)\\\n",
    "00110\\\n",
    "00011\\\n",
    "11111\\\n",
    "00000"
   ]
  },
  {
   "cell_type": "markdown",
   "metadata": {},
   "source": [
    "출력 조건 :\n",
    "- 한 번에 만들 수 있는 아이스크림의 개수를 출력한다.\\\n",
    "(예시) 3"
   ]
  },
  {
   "cell_type": "code",
   "execution_count": null,
   "metadata": {
    "vscode": {
     "languageId": "plaintext"
    }
   },
   "outputs": [],
   "source": []
  },
  {
   "cell_type": "markdown",
   "metadata": {},
   "source": [
    "## 5-11 (실전) 미로 탈출\n",
    "- N x M 크기의 직사각형 형태의 미로\n",
    "- 현재 위치 (1, 1)\n",
    "- 미로의 출구 (N, M)\n",
    "- 한 번에 한 칸씩 이동\n",
    "- 괴물이 있는 부분 : 0, 괴물이 없는 부분 : 1\n",
    "- 미로는 반드시 탈출할 수 있는 형태로 제시\n",
    "- 칸을 셀 때는 시작 칸과 마지막 칸을 모두 포함해서 계산"
   ]
  },
  {
   "cell_type": "markdown",
   "metadata": {},
   "source": [
    "입력 조건 :\n",
    "- 첫째 줄에 두 정수 N, M이 주어진다. (4 <= N, M <= 200)\\\n",
    "(예시) 5 6\n",
    "- 다음 N개의 줄에는 각각 M개의 정수(0 혹은 1)로 미로의 정보가 주어진다. 각각의 수들은 공백 없이 붙어서 입력으로 제시된다. 또한 시작 칸과 마지막 칸은 항상 1이다.\\\n",
    "(예시)\\\n",
    "101010\\\n",
    "111111\\\n",
    "000001\\\n",
    "111111\\\n",
    "111111"
   ]
  },
  {
   "cell_type": "markdown",
   "metadata": {},
   "source": [
    "출력 조건 :\n",
    "- 첫째 줄에 최소 이동 칸의 개수를 출력한다.\\\n",
    "(예시) 10"
   ]
  },
  {
   "cell_type": "code",
   "execution_count": null,
   "metadata": {
    "vscode": {
     "languageId": "plaintext"
    }
   },
   "outputs": [],
   "source": []
  }
 ],
 "metadata": {
  "language_info": {
   "name": "python"
  }
 },
 "nbformat": 4,
 "nbformat_minor": 2
}
